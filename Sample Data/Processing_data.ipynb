{
 "cells": [
  {
   "cell_type": "code",
   "execution_count": 1,
   "metadata": {},
   "outputs": [],
   "source": [
    "import numpy as np\n",
    "import pandas as pd\n",
    "import seaborn as sns\n",
    "import matplotlib.pyplot as plt\n",
    "%matplotlib inline"
   ]
  },
  {
   "cell_type": "code",
   "execution_count": 2,
   "metadata": {},
   "outputs": [],
   "source": [
    "df = pd.read_csv('./weather_prediction_dataset.csv')"
   ]
  },
  {
   "cell_type": "code",
   "execution_count": 4,
   "metadata": {},
   "outputs": [
    {
     "name": "stdout",
     "output_type": "stream",
     "text": [
      "Index(['DATE', 'MONTH', 'BASEL_cloud_cover', 'BASEL_humidity',\n",
      "       'BASEL_pressure', 'BASEL_global_radiation', 'BASEL_precipitation',\n",
      "       'BASEL_sunshine', 'BASEL_temp_mean', 'BASEL_temp_min',\n",
      "       'BASEL_temp_max'],\n",
      "      dtype='object')\n"
     ]
    }
   ],
   "source": [
    "first_11_headers = df.columns[:11]\n",
    "\n",
    "# Display the headers\n",
    "print(first_11_headers)"
   ]
  },
  {
   "cell_type": "code",
   "execution_count": 5,
   "metadata": {},
   "outputs": [
    {
     "name": "stdout",
     "output_type": "stream",
     "text": [
      "      DUSSELDORF_cloud_cover  DUSSELDORF_wind_speed  DUSSELDORF_wind_gust  \\\n",
      "0                          8                    2.5                   5.9   \n",
      "1                          6                    3.0                   7.4   \n",
      "2                          7                    5.5                  14.3   \n",
      "3                          7                    6.0                  16.8   \n",
      "4                          4                    4.5                  11.2   \n",
      "...                      ...                    ...                   ...   \n",
      "3649                       7                    3.7                  11.5   \n",
      "3650                       6                    3.0                   9.8   \n",
      "3651                       8                    2.2                   6.5   \n",
      "3652                       8                    3.1                   6.3   \n",
      "3653                       8                    3.9                   8.2   \n",
      "\n",
      "      DUSSELDORF_humidity  DUSSELDORF_pressure  DUSSELDORF_global_radiation  \\\n",
      "0                    0.92               1.0240                         0.12   \n",
      "1                    0.87               1.0283                         0.19   \n",
      "2                    0.78               1.0235                         0.12   \n",
      "3                    0.87               1.0162                         0.12   \n",
      "4                    0.80               1.0203                         0.51   \n",
      "...                   ...                  ...                          ...   \n",
      "3649                 0.91               1.0050                         0.11   \n",
      "3650                 0.88               0.9998                         0.16   \n",
      "3651                 0.99               0.9925                         0.11   \n",
      "3652                 0.97               0.9949                         0.11   \n",
      "3653                 0.89               0.9997                         0.12   \n",
      "\n",
      "      DUSSELDORF_precipitation  DUSSELDORF_sunshine  DUSSELDORF_temp_mean  \\\n",
      "0                         0.22                  0.0                   4.2   \n",
      "1                         0.00                  0.7                   6.5   \n",
      "2                         0.28                  0.0                   7.7   \n",
      "3                         0.97                  0.0                   7.8   \n",
      "4                         0.00                  6.5                   5.2   \n",
      "...                        ...                  ...                   ...   \n",
      "3649                      0.04                  0.0                   3.4   \n",
      "3650                      1.57                  0.4                   2.2   \n",
      "3651                      0.90                  0.0                   4.8   \n",
      "3652                      0.04                  0.0                   0.6   \n",
      "3653                      0.02                  0.0                  -1.1   \n",
      "\n",
      "      DUSSELDORF_temp_min  DUSSELDORF_temp_max  \n",
      "0                     2.5                  6.9  \n",
      "1                     2.7                  7.9  \n",
      "2                     6.9                  9.1  \n",
      "3                     6.6                  9.2  \n",
      "4                     0.4                  8.6  \n",
      "...                   ...                  ...  \n",
      "3649                  0.4                  4.7  \n",
      "3650                 -0.9                  4.0  \n",
      "3651                  1.3                  9.4  \n",
      "3652                 -0.8                  1.4  \n",
      "3653                 -2.8                 -0.6  \n",
      "\n",
      "[3654 rows x 11 columns]\n"
     ]
    }
   ],
   "source": [
    "# Filter the columns containing \"DUSSELDORF\"\n",
    "dusseldorf_columns = [col for col in df.columns if \"DUSSELDORF\" in col]\n",
    "\n",
    "# Extract the data for these columns\n",
    "dusseldorf_data = df[dusseldorf_columns]\n",
    "\n",
    "# Display the resulting DataFrame\n",
    "print(dusseldorf_data)\n"
   ]
  },
  {
   "cell_type": "code",
   "execution_count": 6,
   "metadata": {},
   "outputs": [
    {
     "name": "stdout",
     "output_type": "stream",
     "text": [
      "Data saved to 'dusseldorf_data.csv'.\n",
      "       DATE  MONTH  DUSSELDORF_cloud_cover  DUSSELDORF_wind_speed  \\\n",
      "0  20000101      1                       8                    2.5   \n",
      "1  20000102      1                       6                    3.0   \n",
      "2  20000103      1                       7                    5.5   \n",
      "3  20000104      1                       7                    6.0   \n",
      "4  20000105      1                       4                    4.5   \n",
      "\n",
      "   DUSSELDORF_wind_gust  DUSSELDORF_humidity  DUSSELDORF_pressure  \\\n",
      "0                   5.9                 0.92               1.0240   \n",
      "1                   7.4                 0.87               1.0283   \n",
      "2                  14.3                 0.78               1.0235   \n",
      "3                  16.8                 0.87               1.0162   \n",
      "4                  11.2                 0.80               1.0203   \n",
      "\n",
      "   DUSSELDORF_global_radiation  DUSSELDORF_precipitation  DUSSELDORF_sunshine  \\\n",
      "0                         0.12                      0.22                  0.0   \n",
      "1                         0.19                      0.00                  0.7   \n",
      "2                         0.12                      0.28                  0.0   \n",
      "3                         0.12                      0.97                  0.0   \n",
      "4                         0.51                      0.00                  6.5   \n",
      "\n",
      "   DUSSELDORF_temp_mean  DUSSELDORF_temp_min  DUSSELDORF_temp_max  \n",
      "0                   4.2                  2.5                  6.9  \n",
      "1                   6.5                  2.7                  7.9  \n",
      "2                   7.7                  6.9                  9.1  \n",
      "3                   7.8                  6.6                  9.2  \n",
      "4                   5.2                  0.4                  8.6  \n"
     ]
    }
   ],
   "source": [
    "# Filter the columns containing \"DUSSELDORF\"\n",
    "dusseldorf_columns = [col for col in df.columns if \"DUSSELDORF\" in col]\n",
    "\n",
    "# Add 'DATE' and 'MONTH' columns to the list\n",
    "columns_to_extract = ['DATE', 'MONTH'] + dusseldorf_columns\n",
    "\n",
    "# Extract the data for these columns\n",
    "dusseldorf_data_with_date_month = df[columns_to_extract]\n",
    "\n",
    "# Save the resulting DataFrame to a CSV file\n",
    "dusseldorf_data_with_date_month.to_csv('dusseldorf_data.csv', index=False)\n",
    "\n",
    "# Display a message or preview\n",
    "print(\"Data saved to 'dusseldorf_data.csv'.\")\n",
    "print(dusseldorf_data_with_date_month.head())  # Preview the top rows\n"
   ]
  },
  {
   "cell_type": "code",
   "execution_count": null,
   "metadata": {},
   "outputs": [],
   "source": []
  }
 ],
 "metadata": {
  "kernelspec": {
   "display_name": "Python 3",
   "language": "python",
   "name": "python3"
  },
  "language_info": {
   "codemirror_mode": {
    "name": "ipython",
    "version": 3
   },
   "file_extension": ".py",
   "mimetype": "text/x-python",
   "name": "python",
   "nbconvert_exporter": "python",
   "pygments_lexer": "ipython3",
   "version": "3.12.7"
  }
 },
 "nbformat": 4,
 "nbformat_minor": 2
}
