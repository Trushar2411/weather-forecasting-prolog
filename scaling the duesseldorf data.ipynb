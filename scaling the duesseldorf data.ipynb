{
 "cells": [
  {
   "cell_type": "code",
   "source": [
    "from google.colab import drive\n",
    "drive.mount('/content/drive')"
   ],
   "metadata": {
    "id": "R6iYM9WW1KK_",
    "outputId": "f0771ec7-2530-4839-d9d8-ed44d708565b",
    "colab": {
     "base_uri": "https://localhost:8080/"
    },
    "ExecuteTime": {
     "end_time": "2025-01-15T18:47:09.227649Z",
     "start_time": "2025-01-15T18:47:08.561579Z"
    }
   },
   "execution_count": 1,
   "outputs": [
    {
     "ename": "ModuleNotFoundError",
     "evalue": "No module named 'google.colab'",
     "output_type": "error",
     "traceback": [
      "\u001B[1;31m---------------------------------------------------------------------------\u001B[0m",
      "\u001B[1;31mModuleNotFoundError\u001B[0m                       Traceback (most recent call last)",
      "Cell \u001B[1;32mIn[1], line 1\u001B[0m\n\u001B[1;32m----> 1\u001B[0m \u001B[38;5;28;01mfrom\u001B[39;00m \u001B[38;5;21;01mgoogle\u001B[39;00m\u001B[38;5;21;01m.\u001B[39;00m\u001B[38;5;21;01mcolab\u001B[39;00m \u001B[38;5;28;01mimport\u001B[39;00m drive\n\u001B[0;32m      2\u001B[0m drive\u001B[38;5;241m.\u001B[39mmount(\u001B[38;5;124m'\u001B[39m\u001B[38;5;124m/content/drive\u001B[39m\u001B[38;5;124m'\u001B[39m)\n",
      "\u001B[1;31mModuleNotFoundError\u001B[0m: No module named 'google.colab'"
     ]
    }
   ]
  },
  {
   "cell_type": "code",
   "source": [
    "import numpy as np\n",
    "import pandas as pd\n",
    "import matplotlib.pyplot as plt\n",
    "import seaborn as sns"
   ],
   "metadata": {
    "id": "Bva9N_rn1nPv",
    "ExecuteTime": {
     "end_time": "2025-01-15T18:48:53.983750Z",
     "start_time": "2025-01-15T18:48:53.980721Z"
    }
   },
   "execution_count": 1,
   "outputs": []
  },
  {
   "cell_type": "code",
   "source": [
    "data_dusseldorf = pd.read_csv('new_scaled_data_dusseldorf.csv')"
   ],
   "metadata": {
    "id": "mVD7yGPD1qwd",
    "ExecuteTime": {
     "end_time": "2025-01-15T18:48:58.348420Z",
     "start_time": "2025-01-15T18:48:58.330029Z"
    }
   },
   "execution_count": 2,
   "outputs": []
  },
  {
   "cell_type": "code",
   "source": [
    "data_dusseldorf.head()"
   ],
   "metadata": {
    "id": "NyJmKHbv10WC",
    "outputId": "2cf6b327-37b2-43cd-d8f3-ed7f46dc65f4",
    "colab": {
     "base_uri": "https://localhost:8080/",
     "height": 226
    },
    "ExecuteTime": {
     "end_time": "2025-01-15T18:48:59.012042Z",
     "start_time": "2025-01-15T18:48:58.998922Z"
    }
   },
   "execution_count": 3,
   "outputs": [
    {
     "data": {
      "text/plain": "   DUSSELDORF_cloud_cover  DUSSELDORF_wind_speed  DUSSELDORF_wind_gust  \\\n0                1.351189              -0.852066             -1.208024   \n1                0.405719              -0.561008             -0.821801   \n2                0.878454               0.894282              0.954826   \n3                0.878454               1.185340              1.598532   \n4               -0.539751               0.312166              0.156631   \n\n   DUSSELDORF_humidity  DUSSELDORF_pressure  DUSSELDORF_global_radiation  \\\n0             1.472087             0.860114                    -1.166699   \n1             1.023978             1.322428                    -1.087205   \n2             0.217383             0.806356                    -1.166699   \n3             1.023978             0.021497                    -1.166699   \n4             0.396626             0.462308                    -0.723805   \n\n   DUSSELDORF_precipitation  DUSSELDORF_sunshine  DUSSELDORF_temp_mean  \\\n0                  0.004452            -1.027376             -1.037909   \n1                 -0.496096            -0.861061             -0.694033   \n2                  0.140965            -1.027376             -0.514619   \n3                  1.710866            -1.027376             -0.499668   \n4                 -0.496096             0.516975             -0.888397   \n\n   DUSSELDORF_temp_min  DUSSELDORF_temp_max      year     month       day  \n0            -0.709898            -1.081528 -1.566301 -1.600412 -1.672995  \n1            -0.677377            -0.952959 -1.566301 -1.600412 -1.559398  \n2             0.005572            -0.798675 -1.566301 -1.600412 -1.445801  \n3            -0.043210            -0.785818 -1.566301 -1.600412 -1.332203  \n4            -1.051372            -0.862960 -1.566301 -1.600412 -1.218606  ",
      "text/html": "<div>\n<style scoped>\n    .dataframe tbody tr th:only-of-type {\n        vertical-align: middle;\n    }\n\n    .dataframe tbody tr th {\n        vertical-align: top;\n    }\n\n    .dataframe thead th {\n        text-align: right;\n    }\n</style>\n<table border=\"1\" class=\"dataframe\">\n  <thead>\n    <tr style=\"text-align: right;\">\n      <th></th>\n      <th>DUSSELDORF_cloud_cover</th>\n      <th>DUSSELDORF_wind_speed</th>\n      <th>DUSSELDORF_wind_gust</th>\n      <th>DUSSELDORF_humidity</th>\n      <th>DUSSELDORF_pressure</th>\n      <th>DUSSELDORF_global_radiation</th>\n      <th>DUSSELDORF_precipitation</th>\n      <th>DUSSELDORF_sunshine</th>\n      <th>DUSSELDORF_temp_mean</th>\n      <th>DUSSELDORF_temp_min</th>\n      <th>DUSSELDORF_temp_max</th>\n      <th>year</th>\n      <th>month</th>\n      <th>day</th>\n    </tr>\n  </thead>\n  <tbody>\n    <tr>\n      <th>0</th>\n      <td>1.351189</td>\n      <td>-0.852066</td>\n      <td>-1.208024</td>\n      <td>1.472087</td>\n      <td>0.860114</td>\n      <td>-1.166699</td>\n      <td>0.004452</td>\n      <td>-1.027376</td>\n      <td>-1.037909</td>\n      <td>-0.709898</td>\n      <td>-1.081528</td>\n      <td>-1.566301</td>\n      <td>-1.600412</td>\n      <td>-1.672995</td>\n    </tr>\n    <tr>\n      <th>1</th>\n      <td>0.405719</td>\n      <td>-0.561008</td>\n      <td>-0.821801</td>\n      <td>1.023978</td>\n      <td>1.322428</td>\n      <td>-1.087205</td>\n      <td>-0.496096</td>\n      <td>-0.861061</td>\n      <td>-0.694033</td>\n      <td>-0.677377</td>\n      <td>-0.952959</td>\n      <td>-1.566301</td>\n      <td>-1.600412</td>\n      <td>-1.559398</td>\n    </tr>\n    <tr>\n      <th>2</th>\n      <td>0.878454</td>\n      <td>0.894282</td>\n      <td>0.954826</td>\n      <td>0.217383</td>\n      <td>0.806356</td>\n      <td>-1.166699</td>\n      <td>0.140965</td>\n      <td>-1.027376</td>\n      <td>-0.514619</td>\n      <td>0.005572</td>\n      <td>-0.798675</td>\n      <td>-1.566301</td>\n      <td>-1.600412</td>\n      <td>-1.445801</td>\n    </tr>\n    <tr>\n      <th>3</th>\n      <td>0.878454</td>\n      <td>1.185340</td>\n      <td>1.598532</td>\n      <td>1.023978</td>\n      <td>0.021497</td>\n      <td>-1.166699</td>\n      <td>1.710866</td>\n      <td>-1.027376</td>\n      <td>-0.499668</td>\n      <td>-0.043210</td>\n      <td>-0.785818</td>\n      <td>-1.566301</td>\n      <td>-1.600412</td>\n      <td>-1.332203</td>\n    </tr>\n    <tr>\n      <th>4</th>\n      <td>-0.539751</td>\n      <td>0.312166</td>\n      <td>0.156631</td>\n      <td>0.396626</td>\n      <td>0.462308</td>\n      <td>-0.723805</td>\n      <td>-0.496096</td>\n      <td>0.516975</td>\n      <td>-0.888397</td>\n      <td>-1.051372</td>\n      <td>-0.862960</td>\n      <td>-1.566301</td>\n      <td>-1.600412</td>\n      <td>-1.218606</td>\n    </tr>\n  </tbody>\n</table>\n</div>"
     },
     "execution_count": 3,
     "metadata": {},
     "output_type": "execute_result"
    }
   ]
  },
  {
   "cell_type": "code",
   "source": [
    "data_dusseldorf.info()"
   ],
   "metadata": {
    "id": "PRfNrLEy15sq",
    "outputId": "29a02534-1db6-40f3-a089-be78ab4384ca",
    "colab": {
     "base_uri": "https://localhost:8080/"
    },
    "ExecuteTime": {
     "start_time": "2025-01-15T18:47:09.231001Z"
    }
   },
   "execution_count": null,
   "outputs": []
  },
  {
   "cell_type": "code",
   "source": [
    "data_dusseldorf.isnull().sum()"
   ],
   "metadata": {
    "id": "ktznr7JK1_4c",
    "outputId": "fcfa219b-add8-42d4-edcf-3e94ef0e6d3a",
    "colab": {
     "base_uri": "https://localhost:8080/",
     "height": 492
    },
    "ExecuteTime": {
     "start_time": "2025-01-15T18:47:09.231001Z"
    }
   },
   "execution_count": null,
   "outputs": []
  },
  {
   "cell_type": "code",
   "source": [
    "\n",
    "data_dusseldorf['DATE'] = data_dusseldorf['DATE'].astype(str)\n",
    "\n",
    "# Extract year, month, and day\n",
    "data_dusseldorf['year'] = data_dusseldorf['DATE'].str[:4].astype(int)\n",
    "data_dusseldorf['month'] = data_dusseldorf['DATE'].str[4:6].astype(int)\n",
    "data_dusseldorf['day'] = data_dusseldorf['DATE'].str[6:].astype(int)\n",
    "\n"
   ],
   "metadata": {
    "id": "xGg1MEtF4Vdl",
    "ExecuteTime": {
     "start_time": "2025-01-15T18:47:09.232510Z"
    }
   },
   "execution_count": null,
   "outputs": []
  },
  {
   "cell_type": "code",
   "source": [
    "data_dusseldorf.head()"
   ],
   "metadata": {
    "id": "Vok4CbF92j5R",
    "outputId": "922b0c48-8b31-4b4d-9d2f-76d94be20814",
    "colab": {
     "base_uri": "https://localhost:8080/",
     "height": 226
    },
    "ExecuteTime": {
     "start_time": "2025-01-15T18:47:09.233514Z"
    }
   },
   "execution_count": null,
   "outputs": []
  },
  {
   "source": [
    "# @title DUSSELDORF_wind_speed vs DUSSELDORF_wind_gust\n",
    "\n",
    "from matplotlib import pyplot as plt\n",
    "data_dusseldorf.plot(kind='scatter', x='DUSSELDORF_wind_speed', y='DUSSELDORF_wind_gust', s=32, alpha=.8)\n",
    "plt.gca().spines[['top', 'right',]].set_visible(False)"
   ],
   "cell_type": "code",
   "execution_count": null,
   "outputs": [],
   "metadata": {
    "cellView": "form",
    "id": "fjOdqsuC5ZDx",
    "outputId": "b578da76-0b47-4fe4-f4fd-f0361c422b28",
    "colab": {
     "base_uri": "https://localhost:8080/",
     "height": 450
    }
   }
  },
  {
   "source": [
    "# @title DUSSELDORF_cloud_cover\n",
    "\n",
    "from matplotlib import pyplot as plt\n",
    "data_dusseldorf['DUSSELDORF_cloud_cover'].plot(kind='hist', bins=20, title='DUSSELDORF_cloud_cover')\n",
    "plt.gca().spines[['top', 'right',]].set_visible(False)"
   ],
   "cell_type": "code",
   "execution_count": null,
   "outputs": [],
   "metadata": {
    "cellView": "form",
    "id": "edzzbAcx5RBr",
    "outputId": "f8991330-f92e-46c9-dfff-416053fc51a1",
    "colab": {
     "base_uri": "https://localhost:8080/",
     "height": 452
    },
    "ExecuteTime": {
     "start_time": "2025-01-15T18:47:09.235043Z"
    }
   }
  },
  {
   "cell_type": "code",
   "source": [
    "data_dusseldorf.drop(['DATE','MONTH'], axis=1, inplace=True)"
   ],
   "metadata": {
    "id": "BJ2rHF2o28ms",
    "ExecuteTime": {
     "start_time": "2025-01-15T18:47:09.236058Z"
    }
   },
   "execution_count": null,
   "outputs": []
  },
  {
   "cell_type": "code",
   "source": [
    "from sklearn.preprocessing import StandardScaler"
   ],
   "metadata": {
    "id": "tXFSMJCp2-AX",
    "ExecuteTime": {
     "start_time": "2025-01-15T18:47:09.236564Z"
    }
   },
   "execution_count": null,
   "outputs": []
  },
  {
   "cell_type": "code",
   "source": [
    "for col in data_dusseldorf.columns:\n",
    "    standard_scaler = StandardScaler()\n",
    "    data_dusseldorf[col] = standard_scaler.fit_transform(data_dusseldorf[[col]])"
   ],
   "metadata": {
    "id": "-icQjncz5CXT"
   },
   "execution_count": null,
   "outputs": []
  },
  {
   "cell_type": "code",
   "source": [
    "data_dusseldorf.head()"
   ],
   "metadata": {
    "id": "bejqEmPs5Igv",
    "outputId": "e29fbb32-fe20-41fa-f79e-ccefab546a9b",
    "colab": {
     "base_uri": "https://localhost:8080/",
     "height": 226
    },
    "ExecuteTime": {
     "start_time": "2025-01-15T18:47:09.238224Z"
    }
   },
   "execution_count": null,
   "outputs": []
  },
  {
   "cell_type": "code",
   "source": [
    "\n",
    "data_dusseldorf.to_csv('new_scaled_data_dusseldorf.csv', index=False)\n",
    "\n",
    "# Download the CSV file to your local machine (Google Colab)\n",
    "from google.colab import files\n",
    "files.download('new_scaled_data_dusseldorf.csv')"
   ],
   "metadata": {
    "id": "_00jr0hC5hTE",
    "outputId": "5b478b7f-f7cd-4c54-9f59-3a477ff37751",
    "colab": {
     "base_uri": "https://localhost:8080/",
     "height": 17
    }
   },
   "execution_count": null,
   "outputs": []
  },
  {
   "cell_type": "code",
   "source": [
    "data_dusseldorf.head()"
   ],
   "metadata": {
    "id": "75aTGQqR6qw_",
    "ExecuteTime": {
     "start_time": "2025-01-15T18:47:09.240233Z"
    }
   },
   "execution_count": null,
   "outputs": []
  }
 ],
 "metadata": {
  "colab": {
   "name": "Welcome to Colaboratory",
   "provenance": []
  },
  "kernelspec": {
   "name": "python3",
   "language": "python",
   "display_name": "Python 3 (ipykernel)"
  }
 },
 "nbformat": 4,
 "nbformat_minor": 0
}
